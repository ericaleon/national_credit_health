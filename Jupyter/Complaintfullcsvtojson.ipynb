{
 "cells": [
  {
   "cell_type": "code",
   "execution_count": 3,
   "metadata": {},
   "outputs": [],
   "source": [
    "import csv\n",
    "import json\n",
    "\n",
    "file = 'complaint_full.csv'\n",
    "json_file = 'complaintfull.json'\n",
    "\n",
    "#Read CSV File\n",
    "def read_CSV(file, json_file):\n",
    "    csv_rows = []\n",
    "    with open(file) as csvfile:\n",
    "        reader = csv.DictReader(csvfile)\n",
    "        field = reader.fieldnames\n",
    "        for row in reader:\n",
    "            csv_rows.extend([{field[i]:row[field[i]] for i in range(len(field))}])\n",
    "        convert_write_json(csv_rows, json_file)\n",
    "\n",
    "#Convert csv data into json\n",
    "def convert_write_json(data, json_file):\n",
    "    with open(json_file, \"w\") as f:\n",
    "        f.write(json.dumps(data, sort_keys=False, indent=4, separators=(',', ': '))) #for pretty\n",
    "        f.write(json.dumps(data))\n",
    "\n",
    "\n",
    "read_CSV(file,json_file)"
   ]
  },
  {
   "cell_type": "code",
   "execution_count": null,
   "metadata": {},
   "outputs": [],
   "source": []
  }
 ],
 "metadata": {
  "kernelspec": {
   "display_name": "Python 3",
   "language": "python",
   "name": "python3"
  },
  "language_info": {
   "codemirror_mode": {
    "name": "ipython",
    "version": 3
   },
   "file_extension": ".py",
   "mimetype": "text/x-python",
   "name": "python",
   "nbconvert_exporter": "python",
   "pygments_lexer": "ipython3",
   "version": "3.6.8"
  }
 },
 "nbformat": 4,
 "nbformat_minor": 2
}
